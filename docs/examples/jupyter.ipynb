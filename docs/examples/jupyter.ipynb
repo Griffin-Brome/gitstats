{
 "cells": [
  {
   "cell_type": "code",
   "execution_count": 1,
   "metadata": {},
   "outputs": [
    {
     "name": "stdout",
     "output_type": "stream",
     "text": [
      "Requirement already satisfied: gitstats==0.0.1b1 from https://github.com/brandongk-ubco/gitstats/releases/download/v0.0.1b1/gitstats-0.0.1b1-py3-none-any.whl in /opt/conda/lib/python3.8/site-packages (0.0.1b1)\n",
      "Requirement already satisfied: PyGithub in /opt/conda/lib/python3.8/site-packages (from gitstats==0.0.1b1) (1.53)\n",
      "Requirement already satisfied: seaborn in /opt/conda/lib/python3.8/site-packages (from gitstats==0.0.1b1) (0.10.1)\n",
      "Requirement already satisfied: pyjwt in /opt/conda/lib/python3.8/site-packages (from PyGithub->gitstats==0.0.1b1) (1.7.1)\n",
      "Requirement already satisfied: deprecated in /opt/conda/lib/python3.8/site-packages (from PyGithub->gitstats==0.0.1b1) (1.2.10)\n",
      "Requirement already satisfied: requests>=2.14.0 in /opt/conda/lib/python3.8/site-packages (from PyGithub->gitstats==0.0.1b1) (2.24.0)\n",
      "Requirement already satisfied: scipy>=1.0.1 in /opt/conda/lib/python3.8/site-packages (from seaborn->gitstats==0.0.1b1) (1.4.1)\n",
      "Requirement already satisfied: pandas>=0.22.0 in /opt/conda/lib/python3.8/site-packages (from seaborn->gitstats==0.0.1b1) (1.1.0)\n",
      "Requirement already satisfied: matplotlib>=2.1.2 in /opt/conda/lib/python3.8/site-packages (from seaborn->gitstats==0.0.1b1) (3.2.2)\n",
      "Requirement already satisfied: numpy>=1.13.3 in /opt/conda/lib/python3.8/site-packages (from seaborn->gitstats==0.0.1b1) (1.18.5)\n",
      "Requirement already satisfied: wrapt<2,>=1.10 in /opt/conda/lib/python3.8/site-packages (from deprecated->PyGithub->gitstats==0.0.1b1) (1.12.1)\n",
      "Requirement already satisfied: urllib3!=1.25.0,!=1.25.1,<1.26,>=1.21.1 in /opt/conda/lib/python3.8/site-packages (from requests>=2.14.0->PyGithub->gitstats==0.0.1b1) (1.25.9)\n",
      "Requirement already satisfied: certifi>=2017.4.17 in /opt/conda/lib/python3.8/site-packages (from requests>=2.14.0->PyGithub->gitstats==0.0.1b1) (2020.6.20)\n",
      "Requirement already satisfied: chardet<4,>=3.0.2 in /opt/conda/lib/python3.8/site-packages (from requests>=2.14.0->PyGithub->gitstats==0.0.1b1) (3.0.4)\n",
      "Requirement already satisfied: idna<3,>=2.5 in /opt/conda/lib/python3.8/site-packages (from requests>=2.14.0->PyGithub->gitstats==0.0.1b1) (2.10)\n",
      "Requirement already satisfied: python-dateutil>=2.7.3 in /opt/conda/lib/python3.8/site-packages (from pandas>=0.22.0->seaborn->gitstats==0.0.1b1) (2.8.1)\n",
      "Requirement already satisfied: pytz>=2017.2 in /opt/conda/lib/python3.8/site-packages (from pandas>=0.22.0->seaborn->gitstats==0.0.1b1) (2020.1)\n",
      "Requirement already satisfied: cycler>=0.10 in /opt/conda/lib/python3.8/site-packages (from matplotlib>=2.1.2->seaborn->gitstats==0.0.1b1) (0.10.0)\n",
      "Requirement already satisfied: pyparsing!=2.0.4,!=2.1.2,!=2.1.6,>=2.0.1 in /opt/conda/lib/python3.8/site-packages (from matplotlib>=2.1.2->seaborn->gitstats==0.0.1b1) (2.4.7)\n",
      "Requirement already satisfied: kiwisolver>=1.0.1 in /opt/conda/lib/python3.8/site-packages (from matplotlib>=2.1.2->seaborn->gitstats==0.0.1b1) (1.2.0)\n",
      "Requirement already satisfied: six>=1.5 in /opt/conda/lib/python3.8/site-packages (from python-dateutil>=2.7.3->pandas>=0.22.0->seaborn->gitstats==0.0.1b1) (1.15.0)\n"
     ]
    }
   ],
   "source": [
    "!pip install https://github.com/brandongk-ubco/gitstats/releases/download/v0.0.1b1/gitstats-0.0.1b1-py3-none-any.whl"
   ]
  },
  {
   "cell_type": "code",
   "execution_count": 2,
   "metadata": {},
   "outputs": [],
   "source": [
    "import gitstats\n",
    "from datetime import datetime, timedelta"
   ]
  },
  {
   "cell_type": "code",
   "execution_count": 3,
   "metadata": {},
   "outputs": [
    {
     "name": "stdout",
     "output_type": "stream",
     "text": [
      "                    user  commits  changes  comments  contributed  effort\n",
      "0  Brandon Graham-Knight    100.0    100.0       0.0        100.0   100.0\n"
     ]
    }
   ],
   "source": [
    "access_token = \"6565c6e56d7db938cdeb3e1e7e1e2b852c6317e0 \"\n",
    "repository = \"brandongk-ubco/gitstats\"\n",
    "end = datetime.utcnow()\n",
    "start = end - timedelta(days=1)\n",
    "\n",
    "stats = gitstats.individual_stats(access_token, repository, start, end)\n",
    "print(stats)"
   ]
  },
  {
   "cell_type": "code",
   "execution_count": null,
   "metadata": {},
   "outputs": [],
   "source": []
  }
 ],
 "metadata": {
  "kernelspec": {
   "display_name": "Python 3",
   "language": "python",
   "name": "python3"
  },
  "language_info": {
   "codemirror_mode": {
    "name": "ipython",
    "version": 3
   },
   "file_extension": ".py",
   "mimetype": "text/x-python",
   "name": "python",
   "nbconvert_exporter": "python",
   "pygments_lexer": "ipython3",
   "version": "3.8.3"
  }
 },
 "nbformat": 4,
 "nbformat_minor": 4
}
