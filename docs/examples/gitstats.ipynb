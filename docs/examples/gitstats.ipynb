{
 "cells": [
  {
   "cell_type": "code",
   "execution_count": 3,
   "metadata": {},
   "outputs": [
    {
     "name": "stdout",
     "output_type": "stream",
     "text": [
      "Collecting gitstats==0.0.1b3\n",
      "  Downloading https://github.com/brandongk-ubco/gitstats/releases/download/v0.0.1b3/gitstats-0.0.1b3-py3-none-any.whl (20 kB)\n",
      "Requirement already satisfied: pandas in /opt/conda/lib/python3.8/site-packages (from gitstats==0.0.1b3) (1.1.0)\n",
      "Requirement already satisfied: PyGithub in /opt/conda/lib/python3.8/site-packages (from gitstats==0.0.1b3) (1.53)\n",
      "Requirement already satisfied: Jinja2 in /opt/conda/lib/python3.8/site-packages (from gitstats==0.0.1b3) (2.11.2)\n",
      "Requirement already satisfied: python-dateutil>=2.7.3 in /opt/conda/lib/python3.8/site-packages (from pandas->gitstats==0.0.1b3) (2.8.1)\n",
      "Requirement already satisfied: numpy>=1.15.4 in /opt/conda/lib/python3.8/site-packages (from pandas->gitstats==0.0.1b3) (1.18.5)\n",
      "Requirement already satisfied: pytz>=2017.2 in /opt/conda/lib/python3.8/site-packages (from pandas->gitstats==0.0.1b3) (2020.1)\n",
      "Requirement already satisfied: pyjwt in /opt/conda/lib/python3.8/site-packages (from PyGithub->gitstats==0.0.1b3) (1.7.1)\n",
      "Requirement already satisfied: requests>=2.14.0 in /opt/conda/lib/python3.8/site-packages (from PyGithub->gitstats==0.0.1b3) (2.24.0)\n",
      "Requirement already satisfied: deprecated in /opt/conda/lib/python3.8/site-packages (from PyGithub->gitstats==0.0.1b3) (1.2.10)\n",
      "Requirement already satisfied: MarkupSafe>=0.23 in /opt/conda/lib/python3.8/site-packages (from Jinja2->gitstats==0.0.1b3) (1.1.1)\n",
      "Requirement already satisfied: six>=1.5 in /opt/conda/lib/python3.8/site-packages (from python-dateutil>=2.7.3->pandas->gitstats==0.0.1b3) (1.15.0)\n",
      "Requirement already satisfied: certifi>=2017.4.17 in /opt/conda/lib/python3.8/site-packages (from requests>=2.14.0->PyGithub->gitstats==0.0.1b3) (2020.6.20)\n",
      "Requirement already satisfied: chardet<4,>=3.0.2 in /opt/conda/lib/python3.8/site-packages (from requests>=2.14.0->PyGithub->gitstats==0.0.1b3) (3.0.4)\n",
      "Requirement already satisfied: idna<3,>=2.5 in /opt/conda/lib/python3.8/site-packages (from requests>=2.14.0->PyGithub->gitstats==0.0.1b3) (2.10)\n",
      "Requirement already satisfied: urllib3!=1.25.0,!=1.25.1,<1.26,>=1.21.1 in /opt/conda/lib/python3.8/site-packages (from requests>=2.14.0->PyGithub->gitstats==0.0.1b3) (1.25.9)\n",
      "Requirement already satisfied: wrapt<2,>=1.10 in /opt/conda/lib/python3.8/site-packages (from deprecated->PyGithub->gitstats==0.0.1b3) (1.12.1)\n",
      "Installing collected packages: gitstats\n",
      "  Attempting uninstall: gitstats\n",
      "    Found existing installation: gitstats 0.0.1b2\n",
      "    Uninstalling gitstats-0.0.1b2:\n",
      "      Successfully uninstalled gitstats-0.0.1b2\n",
      "Successfully installed gitstats-0.0.1b3\n"
     ]
    }
   ],
   "source": [
    "!pip install https://github.com/brandongk-ubco/gitstats/releases/download/v0.0.1b3/gitstats-0.0.1b3-py3-none-any.whl"
   ]
  },
  {
   "cell_type": "code",
   "execution_count": 4,
   "metadata": {},
   "outputs": [
    {
     "name": "stdout",
     "output_type": "stream",
     "text": [
      "Group Name: gitstats\n",
      "Period: 2020-08-28 00:00:00 to 2020-09-04 00:00:00\n",
      "\n",
      "========================\n",
      "Individual Contributions\n",
      "========================\n",
      "                    user  pr  commits  additions  deletions  changes  \\\n",
      "0  Brandon Graham-Knight  25       11        250         90      340   \n",
      "1  Brandon Graham-Knight  29        2         75         52      127   \n",
      "2  Brandon Graham-Knight  30        4         72         23       95   \n",
      "\n",
      "   comments  contributed  \n",
      "0         0         True  \n",
      "1         0         True  \n",
      "2         0         True  \n",
      "\n",
      "=================\n",
      "Individual Effort\n",
      "=================\n",
      "                    user  commits  changes  comments  contributed  effort\n",
      "0  Brandon Graham-Knight    100.0    100.0       0.0        100.0   100.0\n",
      "\n",
      "=============\n",
      "Issues Closed\n",
      "=============\n",
      "  label  completed\n",
      "0  task          1\n",
      "\n",
      "============================================\n",
      "Issues Ignored Because of Improper Labelling\n",
      "============================================\n",
      "None\n",
      "\n",
      "Team Score: 0.5\n",
      "\n",
      "======\n",
      "Scores\n",
      "======\n",
      "                    user  score\n",
      "0  Brandon Graham-Knight    0.5\n"
     ]
    }
   ],
   "source": [
    "import gitstats\n",
    "access_token = \"b4a7e03e2600da188608c22ec5de20bb36109e2d \"\n",
    "repository = \"brandongk-ubco/gitstats\"\n",
    "group_name = \"gitstats\"\n",
    "\n",
    "stats = gitstats.report(access_token, \"gitstats\", repository)\n",
    "print(stats)"
   ]
  },
  {
   "cell_type": "code",
   "execution_count": null,
   "metadata": {},
   "outputs": [],
   "source": []
  }
 ],
 "metadata": {
  "kernelspec": {
   "display_name": "Python 3",
   "language": "python",
   "name": "python3"
  },
  "language_info": {
   "codemirror_mode": {
    "name": "ipython",
    "version": 3
   },
   "file_extension": ".py",
   "mimetype": "text/x-python",
   "name": "python",
   "nbconvert_exporter": "python",
   "pygments_lexer": "ipython3",
   "version": "3.8.3"
  }
 },
 "nbformat": 4,
 "nbformat_minor": 4
}
