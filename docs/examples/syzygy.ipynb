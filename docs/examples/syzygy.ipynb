{
 "cells": [
  {
   "cell_type": "code",
   "execution_count": 17,
   "metadata": {},
   "outputs": [
    {
     "name": "stdout",
     "output_type": "stream",
     "text": [
      "Found existing installation: gitstats 1.0.0\n",
      "Uninstalling gitstats-1.0.0:\n",
      "  Successfully uninstalled gitstats-1.0.0\n",
      "Collecting gitstats==1.0.1\n",
      "  Downloading https://github.com/brandongk-ubco/gitstats/releases/download/v1.0.1/gitstats-1.0.1-py3-none-any.whl (20 kB)\n",
      "Requirement already satisfied: pandas in /opt/conda/lib/python3.8/site-packages (from gitstats==1.0.1) (1.1.0)\n",
      "Requirement already satisfied: PyGithub in /opt/conda/lib/python3.8/site-packages (from gitstats==1.0.1) (1.53)\n",
      "Requirement already satisfied: Jinja2 in /opt/conda/lib/python3.8/site-packages (from gitstats==1.0.1) (2.11.2)\n",
      "Requirement already satisfied: pytz>=2017.2 in /opt/conda/lib/python3.8/site-packages (from pandas->gitstats==1.0.1) (2020.1)\n",
      "Requirement already satisfied: numpy>=1.15.4 in /opt/conda/lib/python3.8/site-packages (from pandas->gitstats==1.0.1) (1.18.5)\n",
      "Requirement already satisfied: python-dateutil>=2.7.3 in /opt/conda/lib/python3.8/site-packages (from pandas->gitstats==1.0.1) (2.8.1)\n",
      "Requirement already satisfied: deprecated in /opt/conda/lib/python3.8/site-packages (from PyGithub->gitstats==1.0.1) (1.2.10)\n",
      "Requirement already satisfied: pyjwt in /opt/conda/lib/python3.8/site-packages (from PyGithub->gitstats==1.0.1) (1.7.1)\n",
      "Requirement already satisfied: requests>=2.14.0 in /opt/conda/lib/python3.8/site-packages (from PyGithub->gitstats==1.0.1) (2.24.0)\n",
      "Requirement already satisfied: MarkupSafe>=0.23 in /opt/conda/lib/python3.8/site-packages (from Jinja2->gitstats==1.0.1) (1.1.1)\n",
      "Requirement already satisfied: six>=1.5 in /opt/conda/lib/python3.8/site-packages (from python-dateutil>=2.7.3->pandas->gitstats==1.0.1) (1.15.0)\n",
      "Requirement already satisfied: wrapt<2,>=1.10 in /opt/conda/lib/python3.8/site-packages (from deprecated->PyGithub->gitstats==1.0.1) (1.12.1)\n",
      "Requirement already satisfied: urllib3!=1.25.0,!=1.25.1,<1.26,>=1.21.1 in /opt/conda/lib/python3.8/site-packages (from requests>=2.14.0->PyGithub->gitstats==1.0.1) (1.25.9)\n",
      "Requirement already satisfied: idna<3,>=2.5 in /opt/conda/lib/python3.8/site-packages (from requests>=2.14.0->PyGithub->gitstats==1.0.1) (2.10)\n",
      "Requirement already satisfied: chardet<4,>=3.0.2 in /opt/conda/lib/python3.8/site-packages (from requests>=2.14.0->PyGithub->gitstats==1.0.1) (3.0.4)\n",
      "Requirement already satisfied: certifi>=2017.4.17 in /opt/conda/lib/python3.8/site-packages (from requests>=2.14.0->PyGithub->gitstats==1.0.1) (2020.6.20)\n",
      "Installing collected packages: gitstats\n",
      "Successfully installed gitstats-1.0.1\n"
     ]
    }
   ],
   "source": [
    "!pip uninstall -y gitstats\n",
    "!pip install --no-cache-dir https://github.com/brandongk-ubco/gitstats/releases/download/v1.0.1/gitstats-1.0.1-py3-none-any.whl"
   ]
  },
  {
   "cell_type": "code",
   "execution_count": 18,
   "metadata": {},
   "outputs": [
    {
     "name": "stdout",
     "output_type": "stream",
     "text": [
      "1.0.1\n"
     ]
    }
   ],
   "source": [
    "import gitstats\n",
    "print(gitstats.__version__)"
   ]
  },
  {
   "cell_type": "code",
   "execution_count": 19,
   "metadata": {},
   "outputs": [
    {
     "name": "stdout",
     "output_type": "stream",
     "text": [
      "Group Name: gitstats\n",
      "Period: 2020-09-09 10:30:00 to 2020-09-16 10:30:00\n",
      "\n",
      "========================\n",
      "Individual Contributions\n",
      "========================\n",
      "                    user  pr  commits  additions  deletions  changes  \\\n",
      "0  Brandon Graham-Knight  52        1         97        102      199   \n",
      "4                 bohuie  52        1          2          2        4   \n",
      "1  Brandon Graham-Knight  53        6        116        121      237   \n",
      "7                 bohuie  53        0          0          0        0   \n",
      "2  Brandon Graham-Knight  54       10        318        330      648   \n",
      "5                 bohuie  54        1          2          2        4   \n",
      "3  Brandon Graham-Knight  59        2         82         47      129   \n",
      "6                 bohuie  59        0          0          0        0   \n",
      "\n",
      "   comments  contributed  \n",
      "0         0         True  \n",
      "4         0         True  \n",
      "1         0         True  \n",
      "7         0        False  \n",
      "2         1         True  \n",
      "5         0         True  \n",
      "3         0         True  \n",
      "6         0        False  \n",
      "\n",
      "=================\n",
      "Individual Effort\n",
      "=================\n",
      "                    user     commits     changes  comments  contributed  \\\n",
      "0  Brandon Graham-Knight  100.000000  100.000000     100.0        100.0   \n",
      "1                 bohuie   10.526316    0.659522       0.0         50.0   \n",
      "\n",
      "       effort  \n",
      "0  100.000000  \n",
      "1   20.307343  \n",
      "\n",
      "=============\n",
      "Issues Closed\n",
      "=============\n",
      "   label  completed\n",
      "0  chore          1\n",
      "1   task          3\n",
      "\n",
      "============================================\n",
      "Issues Ignored Because of Improper Labelling\n",
      "============================================\n",
      "None\n",
      "\n",
      "Team Score: 1.0\n",
      "\n",
      "======\n",
      "Scores\n",
      "======\n",
      "                    user       score\n",
      "0  Brandon Graham-Knight  100.000000\n",
      "1                 bohuie   20.307343\n"
     ]
    }
   ],
   "source": [
    "import gitstats\n",
    "from datetime import datetime\n",
    "\n",
    "access_token = \"593dbe85dc185af39f70710ecf67703798449d0a\"\n",
    "repository = \"brandongk-ubco/gitstats\"\n",
    "group_name = \"gitstats\"\n",
    "\n",
    "start = datetime.fromisoformat('2020-09-09T10:30')\n",
    "end = datetime.fromisoformat('2020-09-16T10:30')\n",
    "\n",
    "stats = gitstats.report(access_token, group_name, repository, start=start, end=end)\n",
    "print(stats)\n"
   ]
  },
  {
   "cell_type": "code",
   "execution_count": 20,
   "metadata": {},
   "outputs": [
    {
     "name": "stdout",
     "output_type": "stream",
     "text": [
      "Group Name: gitstats\n",
      "Period: 2020-09-02 10:30:00 to 2020-09-23 10:30:00\n",
      "\n",
      "========================\n",
      "Individual Contributions\n",
      "========================\n",
      "                     user  pr  commits  additions  deletions  changes  \\\n",
      "0   Brandon Graham-Knight  29        2         75         52      127   \n",
      "67                 bohuie  29        0          0          0        0   \n",
      "1   Brandon Graham-Knight  30        4         72         23       95   \n",
      "66                 bohuie  30        0          0          0        0   \n",
      "2   Brandon Graham-Knight  31        5         81         40      121   \n",
      "..                    ...  ..      ...        ...        ...      ...   \n",
      "41                 bohuie  65        0          0          0        0   \n",
      "32  Brandon Graham-Knight  66        5        153         61      214   \n",
      "40                 bohuie  66        0          0          0        0   \n",
      "33  Brandon Graham-Knight  67        2        112        105      217   \n",
      "39                 bohuie  67        0          0          0        0   \n",
      "\n",
      "    comments  contributed  \n",
      "0          0         True  \n",
      "67         0        False  \n",
      "1          0         True  \n",
      "66         0        False  \n",
      "2          0         True  \n",
      "..       ...          ...  \n",
      "41         0        False  \n",
      "32         0         True  \n",
      "40         0        False  \n",
      "33         0         True  \n",
      "39         0        False  \n",
      "\n",
      "[68 rows x 8 columns]\n",
      "\n",
      "=================\n",
      "Individual Effort\n",
      "=================\n",
      "                    user  commits     changes  comments  contributed  \\\n",
      "0  Brandon Graham-Knight  100.000  100.000000     100.0   100.000000   \n",
      "1                 bohuie    3.125    0.106369       0.0    14.705882   \n",
      "\n",
      "       effort  \n",
      "0  100.000000  \n",
      "1    5.964901  \n",
      "\n",
      "=============\n",
      "Issues Closed\n",
      "=============\n",
      "   label  completed\n",
      "0  chore          1\n",
      "1   task          3\n",
      "\n",
      "============================================\n",
      "Issues Ignored Because of Improper Labelling\n",
      "============================================\n",
      "None\n",
      "\n",
      "Team Score: 1.0\n",
      "\n",
      "======\n",
      "Scores\n",
      "======\n",
      "                    user       score\n",
      "0  Brandon Graham-Knight  100.000000\n",
      "1                 bohuie    5.964901\n"
     ]
    }
   ],
   "source": [
    "import gitstats\n",
    "from datetime import datetime\n",
    "\n",
    "access_token = \"593dbe85dc185af39f70710ecf67703798449d0a\"\n",
    "repository = \"brandongk-ubco/gitstats\"\n",
    "group_name = \"gitstats\"\n",
    "\n",
    "start = datetime.fromisoformat('2020-09-02T10:30')\n",
    "end = datetime.fromisoformat('2020-09-23T10:30')\n",
    "\n",
    "stats = gitstats.report(access_token,\n",
    "                        group_name,\n",
    "                        repository,\n",
    "                        start=start,\n",
    "                        end=end)\n",
    "print(stats)"
   ]
  },
  {
   "cell_type": "code",
   "execution_count": null,
   "metadata": {},
   "outputs": [],
   "source": []
  }
 ],
 "metadata": {
  "kernelspec": {
   "display_name": "Python 3",
   "language": "python",
   "name": "python3"
  },
  "language_info": {
   "codemirror_mode": {
    "name": "ipython",
    "version": 3
   },
   "file_extension": ".py",
   "mimetype": "text/x-python",
   "name": "python",
   "nbconvert_exporter": "python",
   "pygments_lexer": "ipython3",
   "version": "3.8.3"
  }
 },
 "nbformat": 4,
 "nbformat_minor": 4
}
